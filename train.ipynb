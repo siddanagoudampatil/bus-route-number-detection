{
  "nbformat": 4,
  "nbformat_minor": 0,
  "metadata": {
    "colab": {
      "provenance": [],
      "include_colab_link": true
    },
    "kernelspec": {
      "name": "python3",
      "display_name": "Python 3"
    },
    "language_info": {
      "name": "python"
    },
    "accelerator": "GPU",
    "gpuClass": "standard"
  },
  "cells": [
    {
      "cell_type": "markdown",
      "metadata": {
        "id": "view-in-github",
        "colab_type": "text"
      },
      "source": [
        "<a href=\"https://colab.research.google.com/github/siddanagoudampatil/bus-route-number-detection/blob/master/train.ipynb\" target=\"_parent\"><img src=\"https://colab.research.google.com/assets/colab-badge.svg\" alt=\"Open In Colab\"/></a>"
      ]
    },
    {
      "cell_type": "code",
      "execution_count": null,
      "metadata": {
        "id": "sd_7BLKrKIdd"
      },
      "outputs": [],
      "source": [
        "from google.colab import drive\n",
        "import shutil\n",
        "\n",
        "gDriveLink = '/content/drive/MyDrive/major-project/'\n",
        "\n",
        "drive.mount('/content/drive')\n",
        "shutil.copytree(gDriveLink, '/content/bus-route-number-detection/')\n",
        "\n",
        "# drive.flush_and_unmount()"
      ]
    },
    {
      "cell_type": "code",
      "source": [
        "!unzip -q \"/content/bus-route-number-detection/custom_dataset.zip\" -d \"/content/bus-route-number-detection/\""
      ],
      "metadata": {
        "id": "B9b02PPkKeUk"
      },
      "execution_count": null,
      "outputs": []
    },
    {
      "cell_type": "code",
      "source": [
        "# import os\n",
        "# import shutil\n",
        "# shutil.rmtree('/content/yolov5') #deletes a directory and all its contents"
      ],
      "metadata": {
        "id": "rukHHeSxKj97"
      },
      "execution_count": null,
      "outputs": []
    },
    {
      "cell_type": "code",
      "source": [
        "!git clone https://github.com/ultralytics/yolov5\n",
        "%cd yolov5\n",
        "!pip install -qr requirements.txt\n",
        "from yolov5 import utils\n",
        "display = utils.notebook_init()"
      ],
      "metadata": {
        "id": "dYxIKBh2KmR1"
      },
      "execution_count": null,
      "outputs": []
    },
    {
      "cell_type": "code",
      "source": [
        "!python train.py --img 320 --batch 5 --epochs 80 --data /content/bus-route-number-detection/custom-data.yaml --weights yolov5s.pt --cache"
      ],
      "metadata": {
        "id": "cmQIaiUtKqqN"
      },
      "execution_count": null,
      "outputs": []
    },
    {
      "cell_type": "code",
      "source": [
        "!python detect.py --weights /content/bus-route-number-detection/best.pt --img 320 --conf 0.25 --source /content/bus-route-number-detection/Input/"
      ],
      "metadata": {
        "id": "i2g2c5KdKr0k"
      },
      "execution_count": null,
      "outputs": []
    },
    {
      "cell_type": "code",
      "source": [
        "%cp /content/yolov5/runs/train/exp2/weights/best.pt /content/drive/MyDrive/major-project/\n",
        "drive.flush_and_unmount()"
      ],
      "metadata": {
        "id": "rqsSlJckODue"
      },
      "execution_count": null,
      "outputs": []
    }
  ]
}